{
 "cells": [
  {
   "cell_type": "code",
   "execution_count": 1,
   "metadata": {
    "id": "tBOfjhKUjSBx",
    "scrolled": true
   },
   "outputs": [],
   "source": [
    "import pandas as pd\n",
    "import numpy as np\n",
    "\n",
    "#reading the excel file\n",
    "df = pd.read_csv('PGPM-BAAI student data CSV.csv')"
   ]
  },
  {
   "cell_type": "code",
   "execution_count": 2,
   "metadata": {
    "colab": {
     "base_uri": "https://localhost:8080/",
     "height": 1000
    },
    "id": "wRvaf10PjygH",
    "outputId": "a77274f4-8ddb-42ea-aa04-5f1f1336c747"
   },
   "outputs": [
    {
     "data": {
      "text/html": [
       "<div>\n",
       "<style scoped>\n",
       "    .dataframe tbody tr th:only-of-type {\n",
       "        vertical-align: middle;\n",
       "    }\n",
       "\n",
       "    .dataframe tbody tr th {\n",
       "        vertical-align: top;\n",
       "    }\n",
       "\n",
       "    .dataframe thead th {\n",
       "        text-align: right;\n",
       "    }\n",
       "</style>\n",
       "<table border=\"1\" class=\"dataframe\">\n",
       "  <thead>\n",
       "    <tr style=\"text-align: right;\">\n",
       "      <th></th>\n",
       "      <th>Unnamed: 0</th>\n",
       "      <th>Name</th>\n",
       "      <th>Age</th>\n",
       "      <th>No.of.yrs of Education</th>\n",
       "      <th>Exp(in yrs)</th>\n",
       "      <th>Household Size</th>\n",
       "      <th>Monthly Food Budget</th>\n",
       "      <th>Monthly Rent Budget</th>\n",
       "      <th>Veg/NVeg</th>\n",
       "      <th>monthly/annual(0=month,1=annual,2=bothfine)</th>\n",
       "      <th>advance budget</th>\n",
       "      <th>Alcohol (0/1)</th>\n",
       "      <th>Your Gender(0-Male,1-Female)</th>\n",
       "      <th>Preferred Roommate (0-male, 1 -female, 2- any</th>\n",
       "    </tr>\n",
       "  </thead>\n",
       "  <tbody>\n",
       "    <tr>\n",
       "      <th>0</th>\n",
       "      <td>FT221001</td>\n",
       "      <td>AADARSH S</td>\n",
       "      <td>24.0</td>\n",
       "      <td>18.0</td>\n",
       "      <td>2.0</td>\n",
       "      <td>3.0</td>\n",
       "      <td>10000</td>\n",
       "      <td>30000</td>\n",
       "      <td>0.0</td>\n",
       "      <td>0.0</td>\n",
       "      <td>50000</td>\n",
       "      <td>0.0</td>\n",
       "      <td>0.0</td>\n",
       "      <td>2.0</td>\n",
       "    </tr>\n",
       "    <tr>\n",
       "      <th>1</th>\n",
       "      <td>FT221005</td>\n",
       "      <td>ABHIMANYU SWAMI</td>\n",
       "      <td>26.0</td>\n",
       "      <td>18.0</td>\n",
       "      <td>3.0</td>\n",
       "      <td>3.0</td>\n",
       "      <td>8000</td>\n",
       "      <td>12000</td>\n",
       "      <td>0.0</td>\n",
       "      <td>0.0</td>\n",
       "      <td>40000</td>\n",
       "      <td>1.0</td>\n",
       "      <td>0.0</td>\n",
       "      <td>0.0</td>\n",
       "    </tr>\n",
       "    <tr>\n",
       "      <th>2</th>\n",
       "      <td>FT221006</td>\n",
       "      <td>ABHINAV SINGH</td>\n",
       "      <td>26.0</td>\n",
       "      <td>19.0</td>\n",
       "      <td>3.0</td>\n",
       "      <td>3.0</td>\n",
       "      <td>5000</td>\n",
       "      <td>12000</td>\n",
       "      <td>1.0</td>\n",
       "      <td>0.0</td>\n",
       "      <td>20000</td>\n",
       "      <td>1.0</td>\n",
       "      <td>0.0</td>\n",
       "      <td>2.0</td>\n",
       "    </tr>\n",
       "    <tr>\n",
       "      <th>3</th>\n",
       "      <td>FT221010</td>\n",
       "      <td>ABHISHEK GUPTA</td>\n",
       "      <td>26.0</td>\n",
       "      <td>19.0</td>\n",
       "      <td>3.0</td>\n",
       "      <td>4.0</td>\n",
       "      <td>6000</td>\n",
       "      <td>17000</td>\n",
       "      <td>1.0</td>\n",
       "      <td>0.0</td>\n",
       "      <td>25000</td>\n",
       "      <td>0.0</td>\n",
       "      <td>0.0</td>\n",
       "      <td>2.0</td>\n",
       "    </tr>\n",
       "    <tr>\n",
       "      <th>4</th>\n",
       "      <td>FT221013</td>\n",
       "      <td>ADITI KAMRA</td>\n",
       "      <td>26.0</td>\n",
       "      <td>19.0</td>\n",
       "      <td>3.0</td>\n",
       "      <td>5.0</td>\n",
       "      <td>5000</td>\n",
       "      <td>15000</td>\n",
       "      <td>0.0</td>\n",
       "      <td>0.0</td>\n",
       "      <td>25000</td>\n",
       "      <td>0.0</td>\n",
       "      <td>1.0</td>\n",
       "      <td>1.0</td>\n",
       "    </tr>\n",
       "  </tbody>\n",
       "</table>\n",
       "</div>"
      ],
      "text/plain": [
       "  Unnamed: 0             Name   Age  No.of.yrs of Education  Exp(in yrs)  \\\n",
       "0   FT221001        AADARSH S  24.0                    18.0          2.0   \n",
       "1   FT221005  ABHIMANYU SWAMI  26.0                    18.0          3.0   \n",
       "2   FT221006    ABHINAV SINGH  26.0                    19.0          3.0   \n",
       "3   FT221010   ABHISHEK GUPTA  26.0                    19.0          3.0   \n",
       "4   FT221013      ADITI KAMRA  26.0                    19.0          3.0   \n",
       "\n",
       "   Household Size Monthly Food Budget Monthly Rent Budget  Veg/NVeg  \\\n",
       "0             3.0               10000               30000       0.0   \n",
       "1             3.0                8000               12000       0.0   \n",
       "2             3.0                5000               12000       1.0   \n",
       "3             4.0                6000               17000       1.0   \n",
       "4             5.0                5000               15000       0.0   \n",
       "\n",
       "   monthly/annual(0=month,1=annual,2=bothfine) advance budget  Alcohol (0/1)  \\\n",
       "0                                          0.0          50000            0.0   \n",
       "1                                          0.0          40000            1.0   \n",
       "2                                          0.0          20000            1.0   \n",
       "3                                          0.0          25000            0.0   \n",
       "4                                          0.0          25000            0.0   \n",
       "\n",
       "   Your Gender(0-Male,1-Female)  Preferred Roommate (0-male, 1 -female, 2- any  \n",
       "0                           0.0                                            2.0  \n",
       "1                           0.0                                            0.0  \n",
       "2                           0.0                                            2.0  \n",
       "3                           0.0                                            2.0  \n",
       "4                           1.0                                            1.0  "
      ]
     },
     "execution_count": 2,
     "metadata": {},
     "output_type": "execute_result"
    }
   ],
   "source": [
    "df.head()"
   ]
  },
  {
   "cell_type": "code",
   "execution_count": 3,
   "metadata": {
    "colab": {
     "base_uri": "https://localhost:8080/"
    },
    "id": "xzaVECwBj1P6",
    "outputId": "9d3d92c9-a3ce-46fe-a335-c43fc090fceb"
   },
   "outputs": [
    {
     "name": "stdout",
     "output_type": "stream",
     "text": [
      "<class 'pandas.core.frame.DataFrame'>\n",
      "RangeIndex: 104 entries, 0 to 103\n",
      "Data columns (total 14 columns):\n",
      " #   Column                                         Non-Null Count  Dtype  \n",
      "---  ------                                         --------------  -----  \n",
      " 0   Unnamed: 0                                     104 non-null    object \n",
      " 1   Name                                           104 non-null    object \n",
      " 2   Age                                            99 non-null     float64\n",
      " 3   No.of.yrs of Education                         98 non-null     float64\n",
      " 4   Exp(in yrs)                                    99 non-null     float64\n",
      " 5   Household Size                                 99 non-null     float64\n",
      " 6   Monthly Food Budget                            98 non-null     object \n",
      " 7   Monthly Rent Budget                            98 non-null     object \n",
      " 8   Veg/NVeg                                       98 non-null     float64\n",
      " 9   monthly/annual(0=month,1=annual,2=bothfine)    98 non-null     float64\n",
      " 10  advance budget                                 98 non-null     object \n",
      " 11  Alcohol (0/1)                                  98 non-null     float64\n",
      " 12  Your Gender(0-Male,1-Female)                   98 non-null     float64\n",
      " 13  Preferred Roommate (0-male, 1 -female, 2- any  97 non-null     float64\n",
      "dtypes: float64(9), object(5)\n",
      "memory usage: 11.5+ KB\n"
     ]
    }
   ],
   "source": [
    "df.info()"
   ]
  },
  {
   "cell_type": "code",
   "execution_count": 4,
   "metadata": {},
   "outputs": [],
   "source": [
    "#renaming the column\n",
    "df.columns=[\"Roll No\",\"Name\",\"Age\",\"Education\",\"Exp\",\"H_size\",\"F_Budget\",\"R_Budget\",\"F_Pref\",\"Rent_Pref\",\"Adv\",\"Alcohol_Pref\",\"Gender\",\"Room_Pref\"]"
   ]
  },
  {
   "cell_type": "code",
   "execution_count": 5,
   "metadata": {},
   "outputs": [
    {
     "data": {
      "text/html": [
       "<div>\n",
       "<style scoped>\n",
       "    .dataframe tbody tr th:only-of-type {\n",
       "        vertical-align: middle;\n",
       "    }\n",
       "\n",
       "    .dataframe tbody tr th {\n",
       "        vertical-align: top;\n",
       "    }\n",
       "\n",
       "    .dataframe thead th {\n",
       "        text-align: right;\n",
       "    }\n",
       "</style>\n",
       "<table border=\"1\" class=\"dataframe\">\n",
       "  <thead>\n",
       "    <tr style=\"text-align: right;\">\n",
       "      <th></th>\n",
       "      <th>Roll No</th>\n",
       "      <th>Name</th>\n",
       "      <th>Age</th>\n",
       "      <th>Education</th>\n",
       "      <th>Exp</th>\n",
       "      <th>H_size</th>\n",
       "      <th>F_Budget</th>\n",
       "      <th>R_Budget</th>\n",
       "      <th>F_Pref</th>\n",
       "      <th>Rent_Pref</th>\n",
       "      <th>Adv</th>\n",
       "      <th>Alcohol_Pref</th>\n",
       "      <th>Gender</th>\n",
       "      <th>Room_Pref</th>\n",
       "    </tr>\n",
       "  </thead>\n",
       "  <tbody>\n",
       "    <tr>\n",
       "      <th>0</th>\n",
       "      <td>FT221001</td>\n",
       "      <td>AADARSH S</td>\n",
       "      <td>24.0</td>\n",
       "      <td>18.0</td>\n",
       "      <td>2.0</td>\n",
       "      <td>3.0</td>\n",
       "      <td>10000</td>\n",
       "      <td>30000</td>\n",
       "      <td>0.0</td>\n",
       "      <td>0.0</td>\n",
       "      <td>50000</td>\n",
       "      <td>0.0</td>\n",
       "      <td>0.0</td>\n",
       "      <td>2.0</td>\n",
       "    </tr>\n",
       "    <tr>\n",
       "      <th>1</th>\n",
       "      <td>FT221005</td>\n",
       "      <td>ABHIMANYU SWAMI</td>\n",
       "      <td>26.0</td>\n",
       "      <td>18.0</td>\n",
       "      <td>3.0</td>\n",
       "      <td>3.0</td>\n",
       "      <td>8000</td>\n",
       "      <td>12000</td>\n",
       "      <td>0.0</td>\n",
       "      <td>0.0</td>\n",
       "      <td>40000</td>\n",
       "      <td>1.0</td>\n",
       "      <td>0.0</td>\n",
       "      <td>0.0</td>\n",
       "    </tr>\n",
       "    <tr>\n",
       "      <th>2</th>\n",
       "      <td>FT221006</td>\n",
       "      <td>ABHINAV SINGH</td>\n",
       "      <td>26.0</td>\n",
       "      <td>19.0</td>\n",
       "      <td>3.0</td>\n",
       "      <td>3.0</td>\n",
       "      <td>5000</td>\n",
       "      <td>12000</td>\n",
       "      <td>1.0</td>\n",
       "      <td>0.0</td>\n",
       "      <td>20000</td>\n",
       "      <td>1.0</td>\n",
       "      <td>0.0</td>\n",
       "      <td>2.0</td>\n",
       "    </tr>\n",
       "    <tr>\n",
       "      <th>3</th>\n",
       "      <td>FT221010</td>\n",
       "      <td>ABHISHEK GUPTA</td>\n",
       "      <td>26.0</td>\n",
       "      <td>19.0</td>\n",
       "      <td>3.0</td>\n",
       "      <td>4.0</td>\n",
       "      <td>6000</td>\n",
       "      <td>17000</td>\n",
       "      <td>1.0</td>\n",
       "      <td>0.0</td>\n",
       "      <td>25000</td>\n",
       "      <td>0.0</td>\n",
       "      <td>0.0</td>\n",
       "      <td>2.0</td>\n",
       "    </tr>\n",
       "    <tr>\n",
       "      <th>4</th>\n",
       "      <td>FT221013</td>\n",
       "      <td>ADITI KAMRA</td>\n",
       "      <td>26.0</td>\n",
       "      <td>19.0</td>\n",
       "      <td>3.0</td>\n",
       "      <td>5.0</td>\n",
       "      <td>5000</td>\n",
       "      <td>15000</td>\n",
       "      <td>0.0</td>\n",
       "      <td>0.0</td>\n",
       "      <td>25000</td>\n",
       "      <td>0.0</td>\n",
       "      <td>1.0</td>\n",
       "      <td>1.0</td>\n",
       "    </tr>\n",
       "  </tbody>\n",
       "</table>\n",
       "</div>"
      ],
      "text/plain": [
       "    Roll No             Name   Age  Education  Exp  H_size F_Budget R_Budget  \\\n",
       "0  FT221001        AADARSH S  24.0       18.0  2.0     3.0    10000    30000   \n",
       "1  FT221005  ABHIMANYU SWAMI  26.0       18.0  3.0     3.0     8000    12000   \n",
       "2  FT221006    ABHINAV SINGH  26.0       19.0  3.0     3.0     5000    12000   \n",
       "3  FT221010   ABHISHEK GUPTA  26.0       19.0  3.0     4.0     6000    17000   \n",
       "4  FT221013      ADITI KAMRA  26.0       19.0  3.0     5.0     5000    15000   \n",
       "\n",
       "   F_Pref  Rent_Pref    Adv  Alcohol_Pref  Gender  Room_Pref  \n",
       "0     0.0        0.0  50000           0.0     0.0        2.0  \n",
       "1     0.0        0.0  40000           1.0     0.0        0.0  \n",
       "2     1.0        0.0  20000           1.0     0.0        2.0  \n",
       "3     1.0        0.0  25000           0.0     0.0        2.0  \n",
       "4     0.0        0.0  25000           0.0     1.0        1.0  "
      ]
     },
     "execution_count": 5,
     "metadata": {},
     "output_type": "execute_result"
    }
   ],
   "source": [
    "df.head()"
   ]
  },
  {
   "cell_type": "code",
   "execution_count": 6,
   "metadata": {},
   "outputs": [
    {
     "data": {
      "text/plain": [
       "F_Pref          6\n",
       "Rent_Pref       6\n",
       "Alcohol_Pref    6\n",
       "Room_Pref       7\n",
       "dtype: int64"
      ]
     },
     "execution_count": 6,
     "metadata": {},
     "output_type": "execute_result"
    }
   ],
   "source": [
    "#checking for null data\n",
    "df[['F_Pref','Rent_Pref', 'Alcohol_Pref', 'Room_Pref']].isnull().sum()"
   ]
  },
  {
   "cell_type": "code",
   "execution_count": 7,
   "metadata": {},
   "outputs": [],
   "source": [
    "#dropping null data\n",
    "df. dropna(subset = [\"F_Pref\"], inplace=True)"
   ]
  },
  {
   "cell_type": "code",
   "execution_count": 8,
   "metadata": {},
   "outputs": [
    {
     "data": {
      "text/plain": [
       "F_Pref          0\n",
       "Rent_Pref       0\n",
       "Alcohol_Pref    0\n",
       "Room_Pref       1\n",
       "dtype: int64"
      ]
     },
     "execution_count": 8,
     "metadata": {},
     "output_type": "execute_result"
    }
   ],
   "source": [
    "#checking for null data\n",
    "df[['F_Pref','Rent_Pref','Alcohol_Pref', 'Room_Pref']].isnull().sum()"
   ]
  },
  {
   "cell_type": "code",
   "execution_count": 9,
   "metadata": {},
   "outputs": [],
   "source": [
    "#dropping null data\n",
    "df. dropna(subset = ['Room_Pref'], inplace=True)"
   ]
  },
  {
   "cell_type": "code",
   "execution_count": 10,
   "metadata": {},
   "outputs": [
    {
     "data": {
      "text/plain": [
       "F_Pref          0\n",
       "Rent_Pref       0\n",
       "Alcohol_Pref    0\n",
       "Room_Pref       0\n",
       "dtype: int64"
      ]
     },
     "execution_count": 10,
     "metadata": {},
     "output_type": "execute_result"
    }
   ],
   "source": [
    "df[['F_Pref','Rent_Pref','Alcohol_Pref', 'Room_Pref']].isnull().sum()"
   ]
  },
  {
   "cell_type": "code",
   "execution_count": 11,
   "metadata": {},
   "outputs": [],
   "source": [
    "df.reset_index(drop=True,inplace=True)"
   ]
  },
  {
   "cell_type": "code",
   "execution_count": 12,
   "metadata": {},
   "outputs": [
    {
     "data": {
      "text/html": [
       "<div>\n",
       "<style scoped>\n",
       "    .dataframe tbody tr th:only-of-type {\n",
       "        vertical-align: middle;\n",
       "    }\n",
       "\n",
       "    .dataframe tbody tr th {\n",
       "        vertical-align: top;\n",
       "    }\n",
       "\n",
       "    .dataframe thead th {\n",
       "        text-align: right;\n",
       "    }\n",
       "</style>\n",
       "<table border=\"1\" class=\"dataframe\">\n",
       "  <thead>\n",
       "    <tr style=\"text-align: right;\">\n",
       "      <th></th>\n",
       "      <th>Roll No</th>\n",
       "      <th>Name</th>\n",
       "      <th>Age</th>\n",
       "      <th>Education</th>\n",
       "      <th>Exp</th>\n",
       "      <th>H_size</th>\n",
       "      <th>F_Budget</th>\n",
       "      <th>R_Budget</th>\n",
       "      <th>F_Pref</th>\n",
       "      <th>Rent_Pref</th>\n",
       "      <th>Adv</th>\n",
       "      <th>Alcohol_Pref</th>\n",
       "      <th>Gender</th>\n",
       "      <th>Room_Pref</th>\n",
       "    </tr>\n",
       "  </thead>\n",
       "  <tbody>\n",
       "    <tr>\n",
       "      <th>0</th>\n",
       "      <td>FT221001</td>\n",
       "      <td>AADARSH S</td>\n",
       "      <td>24.0</td>\n",
       "      <td>18.0</td>\n",
       "      <td>2.0</td>\n",
       "      <td>3.0</td>\n",
       "      <td>10000</td>\n",
       "      <td>30000</td>\n",
       "      <td>0.0</td>\n",
       "      <td>0.0</td>\n",
       "      <td>50000</td>\n",
       "      <td>0.0</td>\n",
       "      <td>0.0</td>\n",
       "      <td>2.0</td>\n",
       "    </tr>\n",
       "    <tr>\n",
       "      <th>1</th>\n",
       "      <td>FT221005</td>\n",
       "      <td>ABHIMANYU SWAMI</td>\n",
       "      <td>26.0</td>\n",
       "      <td>18.0</td>\n",
       "      <td>3.0</td>\n",
       "      <td>3.0</td>\n",
       "      <td>8000</td>\n",
       "      <td>12000</td>\n",
       "      <td>0.0</td>\n",
       "      <td>0.0</td>\n",
       "      <td>40000</td>\n",
       "      <td>1.0</td>\n",
       "      <td>0.0</td>\n",
       "      <td>0.0</td>\n",
       "    </tr>\n",
       "    <tr>\n",
       "      <th>2</th>\n",
       "      <td>FT221006</td>\n",
       "      <td>ABHINAV SINGH</td>\n",
       "      <td>26.0</td>\n",
       "      <td>19.0</td>\n",
       "      <td>3.0</td>\n",
       "      <td>3.0</td>\n",
       "      <td>5000</td>\n",
       "      <td>12000</td>\n",
       "      <td>1.0</td>\n",
       "      <td>0.0</td>\n",
       "      <td>20000</td>\n",
       "      <td>1.0</td>\n",
       "      <td>0.0</td>\n",
       "      <td>2.0</td>\n",
       "    </tr>\n",
       "    <tr>\n",
       "      <th>3</th>\n",
       "      <td>FT221010</td>\n",
       "      <td>ABHISHEK GUPTA</td>\n",
       "      <td>26.0</td>\n",
       "      <td>19.0</td>\n",
       "      <td>3.0</td>\n",
       "      <td>4.0</td>\n",
       "      <td>6000</td>\n",
       "      <td>17000</td>\n",
       "      <td>1.0</td>\n",
       "      <td>0.0</td>\n",
       "      <td>25000</td>\n",
       "      <td>0.0</td>\n",
       "      <td>0.0</td>\n",
       "      <td>2.0</td>\n",
       "    </tr>\n",
       "    <tr>\n",
       "      <th>4</th>\n",
       "      <td>FT221013</td>\n",
       "      <td>ADITI KAMRA</td>\n",
       "      <td>26.0</td>\n",
       "      <td>19.0</td>\n",
       "      <td>3.0</td>\n",
       "      <td>5.0</td>\n",
       "      <td>5000</td>\n",
       "      <td>15000</td>\n",
       "      <td>0.0</td>\n",
       "      <td>0.0</td>\n",
       "      <td>25000</td>\n",
       "      <td>0.0</td>\n",
       "      <td>1.0</td>\n",
       "      <td>1.0</td>\n",
       "    </tr>\n",
       "  </tbody>\n",
       "</table>\n",
       "</div>"
      ],
      "text/plain": [
       "    Roll No             Name   Age  Education  Exp  H_size F_Budget R_Budget  \\\n",
       "0  FT221001        AADARSH S  24.0       18.0  2.0     3.0    10000    30000   \n",
       "1  FT221005  ABHIMANYU SWAMI  26.0       18.0  3.0     3.0     8000    12000   \n",
       "2  FT221006    ABHINAV SINGH  26.0       19.0  3.0     3.0     5000    12000   \n",
       "3  FT221010   ABHISHEK GUPTA  26.0       19.0  3.0     4.0     6000    17000   \n",
       "4  FT221013      ADITI KAMRA  26.0       19.0  3.0     5.0     5000    15000   \n",
       "\n",
       "   F_Pref  Rent_Pref    Adv  Alcohol_Pref  Gender  Room_Pref  \n",
       "0     0.0        0.0  50000           0.0     0.0        2.0  \n",
       "1     0.0        0.0  40000           1.0     0.0        0.0  \n",
       "2     1.0        0.0  20000           1.0     0.0        2.0  \n",
       "3     1.0        0.0  25000           0.0     0.0        2.0  \n",
       "4     0.0        0.0  25000           0.0     1.0        1.0  "
      ]
     },
     "execution_count": 12,
     "metadata": {},
     "output_type": "execute_result"
    }
   ],
   "source": [
    "df.head()"
   ]
  },
  {
   "cell_type": "code",
   "execution_count": 13,
   "metadata": {},
   "outputs": [],
   "source": [
    "df['F_Budget'] = df['F_Budget'].str.replace(',', '')\n",
    "df['F_Budget'] = df['F_Budget'].astype(float)\n",
    "\n",
    "df['R_Budget'] = df['R_Budget'].str.replace(',', '')\n",
    "df['R_Budget'] = df['R_Budget'].astype(float)\n",
    "\n",
    "df['Adv'] = df['Adv'].str.replace(',', '')\n",
    "df['Adv'] = df['Adv'].astype(float)"
   ]
  },
  {
   "cell_type": "code",
   "execution_count": 14,
   "metadata": {},
   "outputs": [
    {
     "name": "stdout",
     "output_type": "stream",
     "text": [
      "<class 'pandas.core.frame.DataFrame'>\n",
      "RangeIndex: 97 entries, 0 to 96\n",
      "Data columns (total 14 columns):\n",
      " #   Column        Non-Null Count  Dtype  \n",
      "---  ------        --------------  -----  \n",
      " 0   Roll No       97 non-null     object \n",
      " 1   Name          97 non-null     object \n",
      " 2   Age           97 non-null     float64\n",
      " 3   Education     97 non-null     float64\n",
      " 4   Exp           97 non-null     float64\n",
      " 5   H_size        97 non-null     float64\n",
      " 6   F_Budget      97 non-null     float64\n",
      " 7   R_Budget      97 non-null     float64\n",
      " 8   F_Pref        97 non-null     int32  \n",
      " 9   Rent_Pref     97 non-null     int32  \n",
      " 10  Adv           97 non-null     float64\n",
      " 11  Alcohol_Pref  97 non-null     int32  \n",
      " 12  Gender        97 non-null     float64\n",
      " 13  Room_Pref     97 non-null     int32  \n",
      "dtypes: float64(8), int32(4), object(2)\n",
      "memory usage: 9.2+ KB\n"
     ]
    }
   ],
   "source": [
    "#converting the preferences column from float to int\n",
    "convert_dict = {'F_Pref': int,'Alcohol_Pref': int, 'Rent_Pref': int,'Room_Pref': int, 'F_Budget': float, 'R_Budget':float}\n",
    "df = df.astype(convert_dict)\n",
    "df.info()"
   ]
  },
  {
   "cell_type": "code",
   "execution_count": 18,
   "metadata": {},
   "outputs": [],
   "source": [
    "from sklearn import metrics\n",
    "import matplotlib.pyplot as plt\n",
    "%matplotlib inline \n",
    "import seaborn as sns\n",
    "df1 = df"
   ]
  },
  {
   "cell_type": "code",
   "execution_count": 21,
   "metadata": {
    "scrolled": true
   },
   "outputs": [
    {
     "data": {
      "image/png": "[encoded data removed]",
      "text/plain": [
       "<Figure size 864x1008 with 10 Axes>"
      ]
     },
     "metadata": {
      "needs_background": "light"
     },
     "output_type": "display_data"
    }
   ],
   "source": [
    "# Univariate analysis\n",
    "# categorucal columns converted to mumber like Gender etc are not taken into considerations\n",
    "\n",
    "import warnings\n",
    "warnings.filterwarnings(\"ignore\")\n",
    "\n",
    "fig, axes = plt.subplots(nrows=5,ncols=2)\n",
    "fig.set_size_inches(12, 14)\n",
    "x= df1['F_Budget']\n",
    "a = sns.distplot(x=x, ax=axes[0][0])\n",
    "a.set_title(\"F_Budget Distribution\",fontsize=15)\n",
    "a = sns.boxplot(x=x , orient = \"v\" , ax=axes[0][1])\n",
    "a.set_title(\"F_Budget Distribution\",fontsize=15)\n",
    "a.set(xlabel=None)\n",
    "\n",
    "x= df1['R_Budget']\n",
    "a = sns.distplot(x=x , ax=axes[1][0])\n",
    "a.set_title(\"R_Budget Distribution\",fontsize=15)\n",
    "a = sns.boxplot(x=x , orient = \"v\" , ax=axes[1][1])\n",
    "a.set_title(\"R_Budget Distribution\",fontsize=15)\n",
    "a.set(xlabel=None)\n",
    "\n",
    "x= df1['Adv']\n",
    "a = sns.distplot(x=x , ax=axes[2][0])\n",
    "a.set_title(\"Adv Distribution\",fontsize=15)\n",
    "a = sns.boxplot(x=x , orient = \"v\" , ax=axes[2][1])\n",
    "a.set_title(\"Adv Distribution\",fontsize=15)\n",
    "a.set(xlabel=None)\n",
    "\n",
    "x= df1['Age']\n",
    "a = sns.distplot(x=x , ax=axes[3][0])\n",
    "a.set_title(\"Age Distribution\",fontsize=15)\n",
    "a = sns.boxplot(x=x , orient = \"v\" , ax=axes[3][1])\n",
    "a.set_title(\"Age Distribution\",fontsize=15)\n",
    "a.set(xlabel=None)\n",
    "\n",
    "x= df1['Education']\n",
    "a = sns.distplot(x=x , ax=axes[4][0])\n",
    "a.set_title(\"Education Distribution\",fontsize=15)\n",
    "a = sns.boxplot(x=x , orient = \"v\" , ax=axes[4][1])\n",
    "a.set_title(\"Education Distribution\",fontsize=15)\n",
    "a.set(xlabel=None)\n",
    "\n",
    "plt.show()"
   ]
  },
  {
   "cell_type": "code",
   "execution_count": 22,
   "metadata": {
    "scrolled": true
   },
   "outputs": [
    {
     "data": {
      "text/plain": [
       "<seaborn.axisgrid.PairGrid at 0x1e1f39bf8e0>"
      ]
     },
     "execution_count": 22,
     "metadata": {},
     "output_type": "execute_result"
    },
    {
     "data": {
      "image/png": "[encoded data removed]",
      "text/plain": [
       "<Figure size 900x900 with 30 Axes>"
      ]
     },
     "metadata": {
      "needs_background": "light"
     },
     "output_type": "display_data"
    }
   ],
   "source": [
    "sns.pairplot(df1[['F_Pref','Rent_Pref','Adv','Age','Education']]) \n",
    "# shows that only age, advance and education are some what co related \n",
    "# same can be seen in the heat map below"
   ]
  },
  {
   "cell_type": "code",
   "execution_count": 23,
   "metadata": {
    "scrolled": true
   },
   "outputs": [
    {
     "data": {
      "image/png": "[encoded data removed]",
      "text/plain": [
       "<Figure size 720x720 with 2 Axes>"
      ]
     },
     "metadata": {
      "needs_background": "light"
     },
     "output_type": "display_data"
    }
   ],
   "source": [
    "plt.figure(figsize=(10,10))\n",
    "sns.heatmap(df1[['F_Pref','Rent_Pref','Adv','Age','Education']].corr(),annot=True)\n",
    "plt.show()"
   ]
  },
  {
   "cell_type": "code",
   "execution_count": null,
   "metadata": {},
   "outputs": [],
   "source": [
    "# since all other columns are categorical converted into numbers\n",
    "# bivariate analysis would have been possible for those columns if there is a clear dependent variable\n",
    "# which is not possible in our case cause this falls under unsupervised learning.\n",
    "# but below are some of the scenarios that can be inferred"
   ]
  },
  {
   "cell_type": "code",
   "execution_count": 24,
   "metadata": {},
   "outputs": [
    {
     "data": {
      "text/plain": [
       "<AxesSubplot:xlabel='Exp', ylabel='count'>"
      ]
     },
     "execution_count": 24,
     "metadata": {},
     "output_type": "execute_result"
    },
    {
     "data": {
      "image/png": "[encoded data removed]",
      "text/plain": [
       "<Figure size 432x288 with 1 Axes>"
      ]
     },
     "metadata": {
      "needs_background": "light"
     },
     "output_type": "display_data"
    }
   ],
   "source": [
    "x=df1['Exp']\n",
    "sns.countplot(x=x,hue = df1[\"Gender\"])\n",
    "# like telling higher experience people are only males and median contain only females"
   ]
  },
  {
   "cell_type": "code",
   "execution_count": 25,
   "metadata": {},
   "outputs": [
    {
     "data": {
      "text/plain": [
       "<AxesSubplot:xlabel='Gender', ylabel='count'>"
      ]
     },
     "execution_count": 25,
     "metadata": {},
     "output_type": "execute_result"
    },
    {
     "data": {
      "image/png": "[encoded data removed]",
      "text/plain": [
       "<Figure size 432x288 with 1 Axes>"
      ]
     },
     "metadata": {
      "needs_background": "light"
     },
     "output_type": "display_data"
    }
   ],
   "source": [
    "x=df1['Gender']\n",
    "sns.countplot(x=x,hue = df1[\"Room_Pref\"])\n",
    "# majority of male prefer any roommates while majority of female prefer female roommates"
   ]
  },
  {
   "cell_type": "code",
   "execution_count": 27,
   "metadata": {},
   "outputs": [
    {
     "data": {
      "text/plain": [
       "<AxesSubplot:xlabel='Gender', ylabel='count'>"
      ]
     },
     "execution_count": 27,
     "metadata": {},
     "output_type": "execute_result"
    },
    {
     "data": {
      "image/png": "[encoded data removed]",
      "text/plain": [
       "<Figure size 432x288 with 1 Axes>"
      ]
     },
     "metadata": {
      "needs_background": "light"
     },
     "output_type": "display_data"
    }
   ],
   "source": [
    "x=df1['Gender']\n",
    "sns.countplot(x=x,hue = df1[\"Alcohol_Pref\"])\n",
    "\n",
    "# majorly both male and female donot prefer alcohol room mates."
   ]
  },
  {
   "cell_type": "code",
   "execution_count": 180,
   "metadata": {},
   "outputs": [
    {
     "data": {
      "text/plain": [
       "Name\n",
       "AADARSH S                    0\n",
       "ABHIMANYU SWAMI              1\n",
       "ABHINAV SINGH                2\n",
       "ABHISHEK GUPTA               3\n",
       "ADITI KAMRA                  4\n",
       "                            ..\n",
       "UPPU MANI VEERA RAGHURAM    92\n",
       "VARUN MADDINENI             93\n",
       "VISHAL GUHA ROY             94\n",
       "BAVNEET KAUR                95\n",
       "Vinay Singh Chauhan         96\n",
       "Length: 97, dtype: int64"
      ]
     },
     "execution_count": 180,
     "metadata": {},
     "output_type": "execute_result"
    }
   ],
   "source": [
    "Name = df['Name']\n",
    "indices = pd.Series(df.index,index=Name)\n",
    "indices"
   ]
  },
  {
   "cell_type": "code",
   "execution_count": 181,
   "metadata": {},
   "outputs": [],
   "source": [
    "from sklearn.preprocessing import StandardScaler\n",
    "from scipy.spatial.distance import cdist\n",
    "import pandas as pd\n",
    "from sklearn import preprocessing"
   ]
  },
  {
   "cell_type": "code",
   "execution_count": 182,
   "metadata": {},
   "outputs": [
    {
     "data": {
      "text/plain": [
       "0                    AADARSH S\n",
       "1              ABHIMANYU SWAMI\n",
       "2                ABHINAV SINGH\n",
       "3               ABHISHEK GUPTA\n",
       "4                  ADITI KAMRA\n",
       "                ...           \n",
       "92    UPPU MANI VEERA RAGHURAM\n",
       "93             VARUN MADDINENI\n",
       "94             VISHAL GUHA ROY\n",
       "95                BAVNEET KAUR\n",
       "96         Vinay Singh Chauhan\n",
       "Name: Name, Length: 97, dtype: object"
      ]
     },
     "execution_count": 182,
     "metadata": {},
     "output_type": "execute_result"
    }
   ],
   "source": [
    "df.Name"
   ]
  },
  {
   "cell_type": "code",
   "execution_count": 183,
   "metadata": {},
   "outputs": [],
   "source": [
    "#Defining recommendation system\n",
    "def recommend(Name):\n",
    "    global df\n",
    "    df_1=df\n",
    "    Name = Name.upper()\n",
    "    df_rec=df.loc[df['Name'] == Name]\n",
    "    \n",
    "    #using preferences columns to filter the data\n",
    "    if df_rec['F_Pref'].values==0:\n",
    "        df_1=df_1.loc[df_1['F_Pref']==int(df_rec['F_Pref'].values)]\n",
    "    if df_rec['Alcohol_Pref'].values==0:\n",
    "        df_1=df_1.loc[df_1['Alcohol_Pref']==int(df_rec['Alcohol_Pref'].values)]\n",
    "    if df_rec['Room_Pref'].values==0 or df_rec['Room_Pref'].values==1:\n",
    "        df_1=df_1.loc[df_1['Room_Pref']==int(df_rec['Room_Pref'].values)]\n",
    "    if df_rec['Rent_Pref'].values==0:\n",
    "        df_1=df_1.loc[df_1['Rent_Pref']==int(df_rec['Rent_Pref'].values)]\n",
    "     \n",
    "    #taking only necessary columns to find similar people\n",
    "    df_2=df_1[['Roll No','Name','Age','Education','F_Budget','R_Budget','Adv']] #taking only necessary columns\n",
    "    df_2.set_index(['Roll No','Name'], inplace=True)\n",
    "    x = df_2.values    \n",
    "    \n",
    "    min_max_scaler = preprocessing.MinMaxScaler()\n",
    "    x_scaled = min_max_scaler.fit_transform(x)\n",
    "    df_3 = pd.DataFrame(x_scaled)\n",
    "    #scaler = StandardScaler()\n",
    "    #df_2 = scaler.fit_transform(df_1)\n",
    "    df_3= pd.DataFrame(data=df_3.values.tolist(), columns=df_2.columns.tolist(),index=df_1.Name.tolist())\n",
    "    dist_matrix = dist=cdist(df_3, df_3, 'euclid')\n",
    "    p=np.shape(dist_matrix)[0]\n",
    "    dist_matrix = np.reshape(dist_matrix,(p,p))\n",
    "    idx=indices[Name]\n",
    "    sim_scores = list(enumerate(dist_matrix[idx]))\n",
    "    sim_scores = sorted(sim_scores, key = lambda x: x[1])\n",
    "    sim_scores = sim_scores[1:5]\n",
    "    print (sim_scores)\n",
    "    Name_indices = [i[0] for i in sim_scores]\n",
    "    return df.iloc[Name_indices]\n",
    "    "
   ]
  },
  {
   "cell_type": "code",
   "execution_count": 185,
   "metadata": {},
   "outputs": [
    {
     "name": "stdout",
     "output_type": "stream",
     "text": [
      "[(26, 0.22679771583201), (22, 0.24929592212895), (57, 0.2572673890375006), (7, 0.27755576720114655)]\n"
     ]
    },
    {
     "data": {
      "text/html": [
       "<div>\n",
       "<style scoped>\n",
       "    .dataframe tbody tr th:only-of-type {\n",
       "        vertical-align: middle;\n",
       "    }\n",
       "\n",
       "    .dataframe tbody tr th {\n",
       "        vertical-align: top;\n",
       "    }\n",
       "\n",
       "    .dataframe thead th {\n",
       "        text-align: right;\n",
       "    }\n",
       "</style>\n",
       "<table border=\"1\" class=\"dataframe\">\n",
       "  <thead>\n",
       "    <tr style=\"text-align: right;\">\n",
       "      <th></th>\n",
       "      <th>Roll No</th>\n",
       "      <th>Name</th>\n",
       "      <th>Age</th>\n",
       "      <th>Education</th>\n",
       "      <th>Exp</th>\n",
       "      <th>H_size</th>\n",
       "      <th>F_Budget</th>\n",
       "      <th>R_Budget</th>\n",
       "      <th>F_Pref</th>\n",
       "      <th>Rent_Pref</th>\n",
       "      <th>Adv</th>\n",
       "      <th>Alcohol_Pref</th>\n",
       "      <th>Gender</th>\n",
       "      <th>Room_Pref</th>\n",
       "    </tr>\n",
       "  </thead>\n",
       "  <tbody>\n",
       "    <tr>\n",
       "      <th>26</th>\n",
       "      <td>FT222006</td>\n",
       "      <td>ARINDAM KALRA</td>\n",
       "      <td>26.0</td>\n",
       "      <td>17.0</td>\n",
       "      <td>3.0</td>\n",
       "      <td>5.0</td>\n",
       "      <td>10000.0</td>\n",
       "      <td>18000.0</td>\n",
       "      <td>0</td>\n",
       "      <td>0</td>\n",
       "      <td>30000.0</td>\n",
       "      <td>0</td>\n",
       "      <td>0.0</td>\n",
       "      <td>0</td>\n",
       "    </tr>\n",
       "    <tr>\n",
       "      <th>22</th>\n",
       "      <td>FT221074</td>\n",
       "      <td>BANUGU SUHAS REDDY</td>\n",
       "      <td>26.0</td>\n",
       "      <td>20.0</td>\n",
       "      <td>4.0</td>\n",
       "      <td>3.0</td>\n",
       "      <td>9000.0</td>\n",
       "      <td>10000.0</td>\n",
       "      <td>1</td>\n",
       "      <td>2</td>\n",
       "      <td>30000.0</td>\n",
       "      <td>0</td>\n",
       "      <td>0.0</td>\n",
       "      <td>2</td>\n",
       "    </tr>\n",
       "    <tr>\n",
       "      <th>57</th>\n",
       "      <td>FT223047</td>\n",
       "      <td>RAJ SINGH RAJAWAT</td>\n",
       "      <td>26.0</td>\n",
       "      <td>22.0</td>\n",
       "      <td>3.0</td>\n",
       "      <td>4.0</td>\n",
       "      <td>10000.0</td>\n",
       "      <td>15000.0</td>\n",
       "      <td>0</td>\n",
       "      <td>0</td>\n",
       "      <td>70000.0</td>\n",
       "      <td>0</td>\n",
       "      <td>0.0</td>\n",
       "      <td>0</td>\n",
       "    </tr>\n",
       "    <tr>\n",
       "      <th>7</th>\n",
       "      <td>FT221025</td>\n",
       "      <td>AKSHAT PARAG</td>\n",
       "      <td>26.0</td>\n",
       "      <td>17.0</td>\n",
       "      <td>3.0</td>\n",
       "      <td>4.0</td>\n",
       "      <td>20000.0</td>\n",
       "      <td>15000.0</td>\n",
       "      <td>1</td>\n",
       "      <td>0</td>\n",
       "      <td>15000.0</td>\n",
       "      <td>0</td>\n",
       "      <td>0.0</td>\n",
       "      <td>2</td>\n",
       "    </tr>\n",
       "  </tbody>\n",
       "</table>\n",
       "</div>"
      ],
      "text/plain": [
       "     Roll No                Name   Age  Education  Exp  H_size  F_Budget  \\\n",
       "26  FT222006       ARINDAM KALRA  26.0       17.0  3.0     5.0   10000.0   \n",
       "22  FT221074  BANUGU SUHAS REDDY  26.0       20.0  4.0     3.0    9000.0   \n",
       "57  FT223047   RAJ SINGH RAJAWAT  26.0       22.0  3.0     4.0   10000.0   \n",
       "7   FT221025        AKSHAT PARAG  26.0       17.0  3.0     4.0   20000.0   \n",
       "\n",
       "    R_Budget  F_Pref  Rent_Pref      Adv  Alcohol_Pref  Gender  Room_Pref  \n",
       "26   18000.0       0          0  30000.0             0     0.0          0  \n",
       "22   10000.0       1          2  30000.0             0     0.0          2  \n",
       "57   15000.0       0          0  70000.0             0     0.0          0  \n",
       "7    15000.0       1          0  15000.0             0     0.0          2  "
      ]
     },
     "execution_count": 185,
     "metadata": {},
     "output_type": "execute_result"
    }
   ],
   "source": [
    "recommend(\"Arun NamBiaR\")"
   ]
  },
  {
   "cell_type": "code",
   "execution_count": null,
   "metadata": {
    "id": "rtAVer8YtVsF"
   },
   "outputs": [],
   "source": []
  }
 ],
 "metadata": {
  "colab": {
   "name": "Content_Based_Recommendation_System_IMDB_Description_PGPM Baai June 2022.ipynb",
   "provenance": []
  },
  "kernelspec": {
   "display_name": "Python 3 (ipykernel)",
   "language": "python",
   "name": "python3"
  },
  "language_info": {
   "codemirror_mode": {
    "name": "ipython",
    "version": 3
   },
   "file_extension": ".py",
   "mimetype": "text/x-python",
   "name": "python",
   "nbconvert_exporter": "python",
   "pygments_lexer": "ipython3",
   "version": "3.9.7"
  }
 },
 "nbformat": 4,
 "nbformat_minor": 1
}
